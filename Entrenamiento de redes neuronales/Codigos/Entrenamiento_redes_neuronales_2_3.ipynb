{
  "nbformat": 4,
  "nbformat_minor": 0,
  "metadata": {
    "colab": {
      "provenance": []
    },
    "kernelspec": {
      "name": "python3",
      "display_name": "Python 3"
    },
    "language_info": {
      "name": "python"
    }
  },
  "cells": [
    {
      "cell_type": "code",
      "execution_count": null,
      "metadata": {
        "id": "l-FqwtTFaU8C"
      },
      "outputs": [],
      "source": [
        "## for data\n",
        "import pandas as pd\n",
        "import numpy as np\n",
        "\n",
        "## for plotting\n",
        "import matplotlib.pyplot as plt\n",
        "import seaborn as sns\n",
        "\n",
        "## for statistical tests\n",
        "import scipy\n",
        "\n",
        "## for machine learning\n",
        "from sklearn import model_selection, preprocessing, feature_selection, ensemble, linear_model, metrics, decomposition\n",
        "from sklearn.model_selection import train_test_split\n",
        "from sklearn.neighbors import KNeighborsClassifier\n",
        "from sklearn.tree import DecisionTreeClassifier\n",
        "from sklearn.gaussian_process import GaussianProcessClassifier\n",
        "from sklearn.model_selection import StratifiedKFold, cross_validate\n",
        "from sklearn.metrics import classification_report, confusion_matrix, accuracy_score, recall_score, precision_score\n",
        "from sklearn.svm import SVC\n",
        "from sklearn import datasets\n",
        "import matplotlib.cm as cm"
      ]
    },
    {
      "cell_type": "code",
      "source": [
        "diabetes = datasets.load_diabetes()"
      ],
      "metadata": {
        "id": "w71iO2pVan5N"
      },
      "execution_count": null,
      "outputs": []
    },
    {
      "cell_type": "code",
      "source": [
        "x = diabetes.data\n",
        "y = diabetes.target"
      ],
      "metadata": {
        "id": "9Bww09HFPlDg"
      },
      "execution_count": null,
      "outputs": []
    },
    {
      "cell_type": "code",
      "source": [
        "targets = diabetes.target\n",
        "#print(targets)\n",
        "n_targets = len(targets)\n",
        "features = diabetes.feature_names\n",
        "n_features = len(features)\n",
        "print(n_targets)"
      ],
      "metadata": {
        "id": "WO2ic-dozCBM",
        "colab": {
          "base_uri": "https://localhost:8080/"
        },
        "outputId": "f3d676bd-f07f-486c-9c99-7c340da9812b"
      },
      "execution_count": null,
      "outputs": [
        {
          "output_type": "stream",
          "name": "stdout",
          "text": [
            "442\n"
          ]
        }
      ]
    },
    {
      "cell_type": "code",
      "source": [
        "from sklearn.preprocessing import LabelEncoder\n",
        "\n",
        "# Matriz de etiquetas en formato de text\n",
        "\n",
        "# Crear una instancia de LabelEncoder\n",
        "label_encoder = LabelEncoder()\n",
        "\n",
        "# Ajustar el codificador a las etiquetas de texto\n",
        "label_encoder.fit(y)\n",
        "\n",
        "# Transformar las etiquetas de texto a etiquetas numéricas\n",
        "etiquetas_numericas = label_encoder.transform(y)\n",
        "\n",
        "# Imprimir las etiquetas numéricas\n",
        "print(len(etiquetas_numericas))"
      ],
      "metadata": {
        "colab": {
          "base_uri": "https://localhost:8080/"
        },
        "id": "7bKXMj0mje16",
        "outputId": "2a606c10-3404-4d9e-ba96-663676c843eb"
      },
      "execution_count": null,
      "outputs": [
        {
          "output_type": "stream",
          "name": "stdout",
          "text": [
            "442\n"
          ]
        }
      ]
    },
    {
      "cell_type": "markdown",
      "source": [
        "# **EJERCICIO 1.2**"
      ],
      "metadata": {
        "id": "yg3guH6PNHyf"
      }
    },
    {
      "cell_type": "code",
      "source": [
        "def perceptron(x, w):\n",
        "  ws = sum(x*w)\n",
        "  yt = 0\n",
        "  if ws < 0:\n",
        "    yt = -1\n",
        "  elif ws > 0:\n",
        "    yt = 1\n",
        "\n",
        "  return yt"
      ],
      "metadata": {
        "id": "DX5pCkcLT27c"
      },
      "execution_count": null,
      "outputs": []
    },
    {
      "cell_type": "markdown",
      "source": [
        "**Función Multi-Perceptrón**"
      ],
      "metadata": {
        "id": "gQCL_Vihce3B"
      }
    },
    {
      "cell_type": "code",
      "source": [
        "def perceptron_multi(x, w):\n",
        "  yp = []\n",
        "  for xi in x:\n",
        "    yp.append(perceptron(xi, w))\n",
        "  return np.array(yp)"
      ],
      "metadata": {
        "id": "_QRrRyNV2jZJ"
      },
      "execution_count": null,
      "outputs": []
    },
    {
      "cell_type": "code",
      "source": [
        "#Define MLP model\n",
        "from keras.models import Sequential\n",
        "from keras.layers import Dense\n",
        "\n",
        "clf = Sequential()\n",
        "clf.add(Dense(10, input_dim = n_features, activation = 'relu'))\n",
        "clf.add(Dense(10, activation = 'relu'))\n",
        "clf.add(Dense(1, activation = 'linear')) #############################################"
      ],
      "metadata": {
        "id": "CKmy_YHMNXJF"
      },
      "execution_count": null,
      "outputs": []
    },
    {
      "cell_type": "code",
      "source": [
        "#Compile model\n",
        "clf.compile(loss = 'MeanSquaredError', optimizer = 'adam') ##########################################\n",
        "\n",
        "#Fit model\n",
        "clf.fit(x, y, epochs = 100, batch_size = 15)"
      ],
      "metadata": {
        "colab": {
          "base_uri": "https://localhost:8080/"
        },
        "id": "yrvKXq2oNY5Z",
        "outputId": "8bfc4b5e-3fc2-45b8-ded8-2ed3a502fc5e"
      },
      "execution_count": null,
      "outputs": [
        {
          "output_type": "stream",
          "name": "stdout",
          "text": [
            "Epoch 1/100\n",
            "30/30 [==============================] - 3s 10ms/step - loss: 29058.4121\n",
            "Epoch 2/100\n",
            "30/30 [==============================] - 0s 4ms/step - loss: 29008.6406\n",
            "Epoch 3/100\n",
            "30/30 [==============================] - 0s 4ms/step - loss: 28930.7148\n",
            "Epoch 4/100\n",
            "30/30 [==============================] - 0s 5ms/step - loss: 28811.4395\n",
            "Epoch 5/100\n",
            "30/30 [==============================] - 0s 7ms/step - loss: 28635.3770\n",
            "Epoch 6/100\n",
            "30/30 [==============================] - 0s 6ms/step - loss: 28385.7227\n",
            "Epoch 7/100\n",
            "30/30 [==============================] - 0s 3ms/step - loss: 28035.6836\n",
            "Epoch 8/100\n",
            "30/30 [==============================] - 0s 3ms/step - loss: 27572.7148\n",
            "Epoch 9/100\n",
            "30/30 [==============================] - 0s 3ms/step - loss: 26976.8828\n",
            "Epoch 10/100\n",
            "30/30 [==============================] - 0s 3ms/step - loss: 26254.3633\n",
            "Epoch 11/100\n",
            "30/30 [==============================] - 0s 2ms/step - loss: 25385.5293\n",
            "Epoch 12/100\n",
            "30/30 [==============================] - 0s 2ms/step - loss: 24389.9258\n",
            "Epoch 13/100\n",
            "30/30 [==============================] - 0s 2ms/step - loss: 23252.3867\n",
            "Epoch 14/100\n",
            "30/30 [==============================] - 0s 3ms/step - loss: 22009.7988\n",
            "Epoch 15/100\n",
            "30/30 [==============================] - 0s 6ms/step - loss: 20650.0918\n",
            "Epoch 16/100\n",
            "30/30 [==============================] - 0s 5ms/step - loss: 19222.3145\n",
            "Epoch 17/100\n",
            "30/30 [==============================] - 0s 3ms/step - loss: 17718.3008\n",
            "Epoch 18/100\n",
            "30/30 [==============================] - 0s 3ms/step - loss: 16189.8633\n",
            "Epoch 19/100\n",
            "30/30 [==============================] - 0s 3ms/step - loss: 14652.3945\n",
            "Epoch 20/100\n",
            "30/30 [==============================] - 0s 3ms/step - loss: 13167.7871\n",
            "Epoch 21/100\n",
            "30/30 [==============================] - 0s 2ms/step - loss: 11728.4434\n",
            "Epoch 22/100\n",
            "30/30 [==============================] - 0s 3ms/step - loss: 10422.0234\n",
            "Epoch 23/100\n",
            "30/30 [==============================] - 0s 6ms/step - loss: 9199.3633\n",
            "Epoch 24/100\n",
            "30/30 [==============================] - 0s 4ms/step - loss: 8145.9102\n",
            "Epoch 25/100\n",
            "30/30 [==============================] - 0s 3ms/step - loss: 7200.5332\n",
            "Epoch 26/100\n",
            "30/30 [==============================] - 0s 3ms/step - loss: 6452.1724\n",
            "Epoch 27/100\n",
            "30/30 [==============================] - 0s 5ms/step - loss: 5808.2822\n",
            "Epoch 28/100\n",
            "30/30 [==============================] - 0s 3ms/step - loss: 5319.7671\n",
            "Epoch 29/100\n",
            "30/30 [==============================] - 0s 3ms/step - loss: 4958.0596\n",
            "Epoch 30/100\n",
            "30/30 [==============================] - 0s 3ms/step - loss: 4664.7979\n",
            "Epoch 31/100\n",
            "30/30 [==============================] - 0s 3ms/step - loss: 4473.9468\n",
            "Epoch 32/100\n",
            "30/30 [==============================] - 0s 2ms/step - loss: 4317.6973\n",
            "Epoch 33/100\n",
            "30/30 [==============================] - 0s 2ms/step - loss: 4213.2217\n",
            "Epoch 34/100\n",
            "30/30 [==============================] - 0s 3ms/step - loss: 4133.6343\n",
            "Epoch 35/100\n",
            "30/30 [==============================] - 0s 3ms/step - loss: 4082.2078\n",
            "Epoch 36/100\n",
            "30/30 [==============================] - 0s 3ms/step - loss: 4032.3416\n",
            "Epoch 37/100\n",
            "30/30 [==============================] - 0s 3ms/step - loss: 3996.6780\n",
            "Epoch 38/100\n",
            "30/30 [==============================] - 0s 3ms/step - loss: 3966.8091\n",
            "Epoch 39/100\n",
            "30/30 [==============================] - 0s 2ms/step - loss: 3935.7085\n",
            "Epoch 40/100\n",
            "30/30 [==============================] - 0s 4ms/step - loss: 3907.2139\n",
            "Epoch 41/100\n",
            "30/30 [==============================] - 0s 3ms/step - loss: 3883.7017\n",
            "Epoch 42/100\n",
            "30/30 [==============================] - 0s 3ms/step - loss: 3858.1514\n",
            "Epoch 43/100\n",
            "30/30 [==============================] - 0s 3ms/step - loss: 3835.0774\n",
            "Epoch 44/100\n",
            "30/30 [==============================] - 0s 3ms/step - loss: 3814.5999\n",
            "Epoch 45/100\n",
            "30/30 [==============================] - 0s 4ms/step - loss: 3791.2356\n",
            "Epoch 46/100\n",
            "30/30 [==============================] - 0s 3ms/step - loss: 3771.9424\n",
            "Epoch 47/100\n",
            "30/30 [==============================] - 0s 3ms/step - loss: 3749.5679\n",
            "Epoch 48/100\n",
            "30/30 [==============================] - 0s 3ms/step - loss: 3728.9309\n",
            "Epoch 49/100\n",
            "30/30 [==============================] - 0s 3ms/step - loss: 3709.9995\n",
            "Epoch 50/100\n",
            "30/30 [==============================] - 0s 4ms/step - loss: 3686.1482\n",
            "Epoch 51/100\n",
            "30/30 [==============================] - 0s 3ms/step - loss: 3662.3887\n",
            "Epoch 52/100\n",
            "30/30 [==============================] - 0s 3ms/step - loss: 3640.9287\n",
            "Epoch 53/100\n",
            "30/30 [==============================] - 0s 4ms/step - loss: 3618.6025\n",
            "Epoch 54/100\n",
            "30/30 [==============================] - 0s 3ms/step - loss: 3598.1711\n",
            "Epoch 55/100\n",
            "30/30 [==============================] - 0s 4ms/step - loss: 3576.7175\n",
            "Epoch 56/100\n",
            "30/30 [==============================] - 0s 3ms/step - loss: 3560.3926\n",
            "Epoch 57/100\n",
            "30/30 [==============================] - 0s 3ms/step - loss: 3539.4600\n",
            "Epoch 58/100\n",
            "30/30 [==============================] - 0s 2ms/step - loss: 3519.4089\n",
            "Epoch 59/100\n",
            "30/30 [==============================] - 0s 3ms/step - loss: 3500.7261\n",
            "Epoch 60/100\n",
            "30/30 [==============================] - 0s 3ms/step - loss: 3483.8577\n",
            "Epoch 61/100\n",
            "30/30 [==============================] - 0s 2ms/step - loss: 3466.8291\n",
            "Epoch 62/100\n",
            "30/30 [==============================] - 0s 2ms/step - loss: 3450.8230\n",
            "Epoch 63/100\n",
            "30/30 [==============================] - 0s 2ms/step - loss: 3434.4272\n",
            "Epoch 64/100\n",
            "30/30 [==============================] - 0s 2ms/step - loss: 3419.3911\n",
            "Epoch 65/100\n",
            "30/30 [==============================] - 0s 2ms/step - loss: 3403.5750\n",
            "Epoch 66/100\n",
            "30/30 [==============================] - 0s 14ms/step - loss: 3394.1340\n",
            "Epoch 67/100\n",
            "30/30 [==============================] - 0s 2ms/step - loss: 3374.1448\n",
            "Epoch 68/100\n",
            "30/30 [==============================] - 0s 3ms/step - loss: 3361.1343\n",
            "Epoch 69/100\n",
            "30/30 [==============================] - 0s 2ms/step - loss: 3348.2896\n",
            "Epoch 70/100\n",
            "30/30 [==============================] - 0s 3ms/step - loss: 3336.0471\n",
            "Epoch 71/100\n",
            "30/30 [==============================] - 0s 2ms/step - loss: 3322.8154\n",
            "Epoch 72/100\n",
            "30/30 [==============================] - 0s 3ms/step - loss: 3311.3518\n",
            "Epoch 73/100\n",
            "30/30 [==============================] - 0s 3ms/step - loss: 3297.5015\n",
            "Epoch 74/100\n",
            "30/30 [==============================] - 0s 2ms/step - loss: 3286.0142\n",
            "Epoch 75/100\n",
            "30/30 [==============================] - 0s 4ms/step - loss: 3273.8267\n",
            "Epoch 76/100\n",
            "30/30 [==============================] - 0s 3ms/step - loss: 3262.7678\n",
            "Epoch 77/100\n",
            "30/30 [==============================] - 0s 3ms/step - loss: 3252.9111\n",
            "Epoch 78/100\n",
            "30/30 [==============================] - 0s 3ms/step - loss: 3242.3433\n",
            "Epoch 79/100\n",
            "30/30 [==============================] - 0s 4ms/step - loss: 3229.1555\n",
            "Epoch 80/100\n",
            "30/30 [==============================] - 0s 4ms/step - loss: 3219.9844\n",
            "Epoch 81/100\n",
            "30/30 [==============================] - 0s 3ms/step - loss: 3211.4890\n",
            "Epoch 82/100\n",
            "30/30 [==============================] - 0s 2ms/step - loss: 3202.4324\n",
            "Epoch 83/100\n",
            "30/30 [==============================] - 0s 2ms/step - loss: 3193.0623\n",
            "Epoch 84/100\n",
            "30/30 [==============================] - 0s 4ms/step - loss: 3183.8398\n",
            "Epoch 85/100\n",
            "30/30 [==============================] - 0s 3ms/step - loss: 3176.1289\n",
            "Epoch 86/100\n",
            "30/30 [==============================] - 0s 2ms/step - loss: 3166.0198\n",
            "Epoch 87/100\n",
            "30/30 [==============================] - 0s 3ms/step - loss: 3158.1790\n",
            "Epoch 88/100\n",
            "30/30 [==============================] - 0s 3ms/step - loss: 3149.9050\n",
            "Epoch 89/100\n",
            "30/30 [==============================] - 0s 2ms/step - loss: 3141.5430\n",
            "Epoch 90/100\n",
            "30/30 [==============================] - 0s 2ms/step - loss: 3135.0129\n",
            "Epoch 91/100\n",
            "30/30 [==============================] - 0s 2ms/step - loss: 3128.0996\n",
            "Epoch 92/100\n",
            "30/30 [==============================] - 0s 3ms/step - loss: 3121.8960\n",
            "Epoch 93/100\n",
            "30/30 [==============================] - 0s 3ms/step - loss: 3112.0410\n",
            "Epoch 94/100\n",
            "30/30 [==============================] - 0s 2ms/step - loss: 3105.7148\n",
            "Epoch 95/100\n",
            "30/30 [==============================] - 0s 2ms/step - loss: 3101.0239\n",
            "Epoch 96/100\n",
            "30/30 [==============================] - 0s 4ms/step - loss: 3091.9585\n",
            "Epoch 97/100\n",
            "30/30 [==============================] - 0s 3ms/step - loss: 3086.3069\n",
            "Epoch 98/100\n",
            "30/30 [==============================] - 0s 3ms/step - loss: 3083.0288\n",
            "Epoch 99/100\n",
            "30/30 [==============================] - 0s 3ms/step - loss: 3074.6631\n",
            "Epoch 100/100\n",
            "30/30 [==============================] - 0s 2ms/step - loss: 3070.8464\n"
          ]
        },
        {
          "output_type": "execute_result",
          "data": {
            "text/plain": [
              "<keras.callbacks.History at 0x7f4765b16bc0>"
            ]
          },
          "metadata": {},
          "execution_count": 9
        }
      ]
    },
    {
      "cell_type": "markdown",
      "source": [
        "**Cross validation regresión no lineal**"
      ],
      "metadata": {
        "id": "Q_JHktQvpTZH"
      }
    },
    {
      "cell_type": "code",
      "source": [
        "# Evaluate model\n",
        "from sklearn.model_selection import KFold\n",
        "from keras.models import Sequential\n",
        "from keras.layers import Dense\n",
        "from keras.utils import np_utils\n",
        "from sklearn.metrics import mean_squared_error, r2_score\n",
        "\n",
        "n_folds = 5\n",
        "kf = KFold(n_splits=5, shuffle = True)\n",
        "mse=0\n",
        "r2 = 0\n",
        "\n",
        "for train_index, test_index in kf.split(x):\n",
        "\n",
        "  # Training phase\n",
        "  x_train = x[train_index, :]\n",
        "  y_train = y[train_index]\n",
        "\n",
        "  clf_cv = Sequential()\n",
        "  clf_cv.add(Dense(10, input_dim = n_features, activation = 'relu'))\n",
        "  clf_cv.add(Dense(10, activation = 'relu'))\n",
        "  clf_cv.add(Dense(1, activation = 'linear')) #############################################\n",
        "  clf_cv.compile(loss = 'mean_squared_error', optimizer = 'adam')\n",
        "  clf_cv.fit(x_train, y_train, epochs=150, batch_size=25, verbose=0)\n",
        "\n",
        "  # Test phase\n",
        "  x_test = x[test_index, :]\n",
        "  y_test = y[test_index]\n",
        "  y_pred = clf_cv.predict(x_test)\n",
        "\n",
        "  # Calculate MSE and R^2\n",
        "  mse_i = mean_squared_error(y_test, y_pred)\n",
        "  print('mse = ', mse_i)\n",
        "\n",
        "  r2_i = r2_score(y_test, y_pred)\n",
        "  print('r^2= ', r2_i)\n",
        "\n",
        "  mse += mse_i\n",
        "  r2 += r2_i\n",
        "\n",
        "mse = mse/n_folds\n",
        "print('MSE = ', mse)\n",
        "\n",
        "r2 = r2/n_folds\n",
        "print('R^2 = ', r2)"
      ],
      "metadata": {
        "colab": {
          "base_uri": "https://localhost:8080/"
        },
        "id": "-8U81i2YpYqe",
        "outputId": "7e047144-1192-41f0-8054-9b0ecd3299bf"
      },
      "execution_count": null,
      "outputs": [
        {
          "output_type": "stream",
          "name": "stderr",
          "text": [
            "WARNING:tensorflow:5 out of the last 13 calls to <function Model.make_predict_function.<locals>.predict_function at 0x7f47511b08b0> triggered tf.function retracing. Tracing is expensive and the excessive number of tracings could be due to (1) creating @tf.function repeatedly in a loop, (2) passing tensors with different shapes, (3) passing Python objects instead of tensors. For (1), please define your @tf.function outside of the loop. For (2), @tf.function has reduce_retracing=True option that can avoid unnecessary retracing. For (3), please refer to https://www.tensorflow.org/guide/function#controlling_retracing and https://www.tensorflow.org/api_docs/python/tf/function for  more details.\n"
          ]
        },
        {
          "output_type": "stream",
          "name": "stdout",
          "text": [
            "3/3 [==============================] - 0s 4ms/step\n",
            "mse =  3105.194119869278\n",
            "r^2=  0.4787372497671115\n",
            "3/3 [==============================] - 0s 4ms/step\n",
            "mse =  3891.809469494988\n",
            "r^2=  0.3923464526662185\n",
            "3/3 [==============================] - 0s 3ms/step\n",
            "mse =  3443.1624462977566\n",
            "r^2=  0.3886781851221942\n",
            "3/3 [==============================] - 0s 2ms/step\n",
            "mse =  3486.1524722996633\n",
            "r^2=  0.4014738688537143\n",
            "3/3 [==============================] - 0s 3ms/step\n",
            "mse =  3062.9767358163035\n",
            "r^2=  0.44436877793201224\n",
            "MSE =  3397.859048755598\n",
            "R^2 =  0.42112090686825016\n"
          ]
        }
      ]
    }
  ]
}